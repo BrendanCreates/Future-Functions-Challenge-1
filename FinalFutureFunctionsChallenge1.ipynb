{
  "nbformat": 4,
  "nbformat_minor": 0,
  "metadata": {
    "colab": {
      "provenance": [],
      "authorship_tag": "ABX9TyOb4X84lkI+eSn4dLUqGqq/",
      "include_colab_link": true
    },
    "kernelspec": {
      "name": "python3",
      "display_name": "Python 3"
    },
    "language_info": {
      "name": "python"
    }
  },
  "cells": [
    {
      "cell_type": "markdown",
      "metadata": {
        "id": "view-in-github",
        "colab_type": "text"
      },
      "source": [
        "<a href=\"https://colab.research.google.com/github/BrendanCreates/Future-Functions-Challenge-1/blob/main/FinalFutureFunctionsChallenge1.ipynb\" target=\"_parent\"><img src=\"https://colab.research.google.com/assets/colab-badge.svg\" alt=\"Open In Colab\"/></a>"
      ]
    },
    {
      "cell_type": "code",
      "execution_count": null,
      "metadata": {
        "id": "5nsfqlU6Hwij"
      },
      "outputs": [],
      "source": [
        "import numpy as np\n",
        "import random\n",
        "import math"
      ]
    },
    {
      "cell_type": "markdown",
      "source": [
        "# Coding Logic\n",
        "\n",
        "***Time Complexity is of order O(N^2) where N is num of seats***\n",
        "\n",
        "1.   Generate an initial seating chart based on X, Y\n",
        "\n",
        "  a.   Each seat is a sub array with 0 or 1 being unseated or seated and seat\n",
        "       number\n",
        "\n",
        "2.   Randomize the seating numbers\n",
        "\n",
        "  a.   Run this to your heart's content, randomize as much as you want\n",
        "\n",
        "3.   Define lists that keep track of seated students and distance matrices that represent the distance at every point in the seating chart\n",
        "4.   Define some helper functions for managing those lists and creating the distance matrices\n",
        "5.   If there are multiple seats of identical min-max distance, choose the lowest number seat\n",
        "5.   Return the seat of the person\n",
        "\n",
        "If no one has been seated, they occupy seat number 1\n",
        "\n",
        "# How to use:\n",
        "\n",
        "*   There is a block that has ``` randomize_seating(input_seating_chart) ``` this block can be run as much as you want and it will keep randomizing seating. Un comment the two lines of code below it to view the seating chart before the seating process occurs\n",
        "\n",
        "\n",
        "*   Each seat in the seating chart (2D array) is its own subarray (1D array) that stores a 0 or 1 for unseated or seated, and the seating number\n"
      ],
      "metadata": {
        "id": "depIvx1MH5nu"
      }
    },
    {
      "cell_type": "markdown",
      "source": [
        "# Initializing Seating Chart"
      ],
      "metadata": {
        "id": "lvBi1oscv1iN"
      }
    },
    {
      "cell_type": "code",
      "source": [
        "X = 5 # Change for number of rows\n",
        "Y = 5 # Change for number of seats per row"
      ],
      "metadata": {
        "id": "EtNKeRW3VbOy"
      },
      "execution_count": null,
      "outputs": []
    },
    {
      "cell_type": "code",
      "source": [
        "input_seating_chart = np.empty((X, Y), dtype=object) # Define the input seating chart"
      ],
      "metadata": {
        "id": "bKPbQJ7Pd9bZ"
      },
      "execution_count": null,
      "outputs": []
    },
    {
      "cell_type": "code",
      "source": [
        "def randomize_seating(seating):\n",
        "  seat_numbers = np.arange(1, X * Y + 1) # Random number generation is done this way so all numbers in range are used\n",
        "  np.random.shuffle(seat_numbers)\n",
        "\n",
        "  k = 0\n",
        "  for i in range(X):\n",
        "    for j in range(Y):\n",
        "      seating[i, j] = np.array([0, seat_numbers[k]])\n",
        "      k += 1"
      ],
      "metadata": {
        "collapsed": true,
        "id": "hOCn_G6EWRRM"
      },
      "execution_count": null,
      "outputs": []
    },
    {
      "cell_type": "code",
      "source": [
        "randomize_seating(input_seating_chart)  # Run this block as many times as you want, randomize seating\n",
        "\n",
        "# np.set_printoptions(linewidth=200)    # Run this if you want to view the current seating chart\n",
        "# print(input_seating_chart)            # 0 represents no person is sitting there, a 1 would represent a seated person\n"
      ],
      "metadata": {
        "id": "qqFUNkK4aPfU"
      },
      "execution_count": null,
      "outputs": []
    },
    {
      "cell_type": "markdown",
      "source": [
        "# Finding the next best seat"
      ],
      "metadata": {
        "id": "5SK-v2Y3v7mJ"
      }
    },
    {
      "cell_type": "code",
      "source": [
        "seated_students = []\n",
        "distance_array_list = []"
      ],
      "metadata": {
        "id": "kj1loSmEjKeV"
      },
      "execution_count": null,
      "outputs": []
    },
    {
      "cell_type": "code",
      "source": [
        "def seat_student(position, seating):\n",
        "  posx = position[0]\n",
        "  posy = position[1]\n",
        "\n",
        "  seating[posx, posy][0] = 1  # Student is now seated in chart\n",
        "  seated_students.append((posx, posy))"
      ],
      "metadata": {
        "id": "Qk52CAZ7pdcI"
      },
      "execution_count": null,
      "outputs": []
    },
    {
      "cell_type": "code",
      "source": [
        "def return_seat_from_num(seat_number, seating):\n",
        "  for i in range(X):\n",
        "    for j in range(Y):\n",
        "      if seating[i, j][1] == seat_number:\n",
        "        return np.array([i, j]) # Return the position associated with seatn number\n",
        "\n",
        "  return None"
      ],
      "metadata": {
        "id": "uBQBSV4rsD1G"
      },
      "execution_count": null,
      "outputs": []
    },
    {
      "cell_type": "code",
      "source": [
        "def calculate_distance_matrix(position, rows, cols):\n",
        "  distance_matrix = np.zeros((X, Y))\n",
        "  for i in range(X):\n",
        "    for j in range(Y):\n",
        "      distance_matrix[i, j] = math.sqrt((i - position[0]) ** 2 + (j - position[1]) ** 2) # Pythagorean stuff\n",
        "  return distance_matrix"
      ],
      "metadata": {
        "id": "slcFWCH6BEdq"
      },
      "execution_count": null,
      "outputs": []
    },
    {
      "cell_type": "code",
      "source": [
        "def find_seating_position(seating):\n",
        "  global distance_array_list\n",
        "\n",
        "  if len(seated_students) == 0:\n",
        "    # If no one is seated, place first person at seat number 1\n",
        "    first_seat = return_seat_from_num(1, seating)\n",
        "    if first_seat is not None:\n",
        "      seat_student(first_seat, seating)\n",
        "      distance_array_list.append(calculate_distance_matrix(first_seat, X, Y))  # Initialize distance tracking\n",
        "    return\n",
        "\n",
        "  # Stack all distance matrices and compute the min at each position\n",
        "  distance_array_stack = np.dstack(distance_array_list)\n",
        "  min_distance_matrix = np.min(distance_array_stack, axis=2)  # Smallest distance from seated person at every spot\n",
        "\n",
        "  # Find the largest of all of the smallest distances from seated person (maximize distance from closest person)\n",
        "  max_of_min_distance = np.max(min_distance_matrix)\n",
        "\n",
        "  # Find the lowest seat number among seats at this max distance\n",
        "  lowest_seat = np.inf\n",
        "  best_seat = None\n",
        "\n",
        "  for i in range(X):\n",
        "    for j in range(Y):\n",
        "      if seating[i, j][0] == 0 and min_distance_matrix[i, j] == max_of_min_distance:\n",
        "        if seating[i, j][1] < lowest_seat:\n",
        "          lowest_seat = seating[i, j][1]\n",
        "          best_seat = (i, j)\n",
        "\n",
        "  if best_seat:\n",
        "    seat_student(best_seat, seating)\n",
        "    distance_array_list.append(calculate_distance_matrix(best_seat, X, Y))\n"
      ],
      "metadata": {
        "id": "f1lUDdv9pSyB"
      },
      "execution_count": null,
      "outputs": []
    },
    {
      "cell_type": "markdown",
      "source": [
        "# Run to iterate through the simulation\n",
        "\n",
        "Every time this block is ran, a new person is seated\n",
        "\n",
        "To restart the simulation, start by running the code blocks from the top of the notebook back down again, changing input size and randomizing to your liking\n",
        "\n",
        "**NOTE: Run all code blocks before this for the simulation to run properly**"
      ],
      "metadata": {
        "id": "QU7lqt3zwGum"
      }
    },
    {
      "cell_type": "code",
      "source": [
        "find_seating_position(input_seating_chart)\n",
        "np.set_printoptions(linewidth=200)\n",
        "print(input_seating_chart)"
      ],
      "metadata": {
        "id": "2rMd0UkVu_Dj"
      },
      "execution_count": null,
      "outputs": []
    }
  ]
}